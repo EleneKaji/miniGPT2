{
 "cells": [
  {
   "cell_type": "code",
   "execution_count": null,
   "metadata": {},
   "outputs": [],
   "source": [
    "# B T C = Batch Size, Sequence Length (in tokens), Embedding Dimension\n",
    "# End in the same projection as before - 4, 16, 8\n",
    "# Q K V = (8, 16) (16, 8) (8, 16)"
   ]
  },
  {
   "cell_type": "code",
   "execution_count": 12,
   "metadata": {},
   "outputs": [
    {
     "data": {
      "text/plain": [
       "torch.Size([4, 8, 16])"
      ]
     },
     "execution_count": 12,
     "metadata": {},
     "output_type": "execute_result"
    }
   ],
   "source": [
    "import torch\n",
    "\n",
    "q = torch.randn(4, 8, 16)\n",
    "k = torch.randn(4, 16, 8)\n",
    "v = torch.randn(4, 8, 16)\n",
    "\n",
    "attention_scores = q @ k\n",
    "output = attention_scores @ v\n",
    "attention_scores.shape\n",
    "output.shape"
   ]
  }
 ],
 "metadata": {
  "kernelspec": {
   "display_name": "myenv",
   "language": "python",
   "name": "python3"
  },
  "language_info": {
   "codemirror_mode": {
    "name": "ipython",
    "version": 3
   },
   "file_extension": ".py",
   "mimetype": "text/x-python",
   "name": "python",
   "nbconvert_exporter": "python",
   "pygments_lexer": "ipython3",
   "version": "3.10.14"
  }
 },
 "nbformat": 4,
 "nbformat_minor": 2
}
